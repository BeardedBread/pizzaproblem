{
 "cells": [
  {
   "cell_type": "code",
   "execution_count": 27,
   "metadata": {},
   "outputs": [
    {
     "name": "stdout",
     "output_type": "stream",
     "text": [
      "[5 1]\n",
      "['1' '2' '3' '4']\n"
     ]
    }
   ],
   "source": [
    "import numpy as np\n",
    "a=np.array([[1,5],[3,4],[5,1],[7,8]])\n",
    "if a.size==0 or np.any(a==1):\n",
    "    print(a[a[:,1].argsort()][0])\n",
    "b=np.array(['1','2','3','4'])\n",
    "if ~np.any(b=='-') :\n",
    "    print(b)"
   ]
  }
 ],
 "metadata": {
  "kernelspec": {
   "display_name": "Python 2",
   "language": "python",
   "name": "python2"
  },
  "language_info": {
   "codemirror_mode": {
    "name": "ipython",
    "version": 2
   },
   "file_extension": ".py",
   "mimetype": "text/x-python",
   "name": "python",
   "nbconvert_exporter": "python",
   "pygments_lexer": "ipython2",
   "version": "2.7.13"
  }
 },
 "nbformat": 4,
 "nbformat_minor": 2
}
